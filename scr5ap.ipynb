{
 "cells": [
  {
   "cell_type": "code",
   "execution_count": 3,
   "metadata": {},
   "outputs": [
    {
     "name": "stdout",
     "output_type": "stream",
     "text": [
      "<class 'pandas.core.frame.DataFrame'>\n",
      "RangeIndex: 33920 entries, 0 to 33919\n",
      "Data columns (total 4 columns):\n",
      " #   Column         Non-Null Count  Dtype \n",
      "---  ------         --------------  ----- \n",
      " 0   Title          33920 non-null  object\n",
      " 1   Hierarchy      33920 non-null  object\n",
      " 2   Content        33920 non-null  object\n",
      " 3   Title_Missing  33920 non-null  int64 \n",
      "dtypes: int64(1), object(3)\n",
      "memory usage: 1.0+ MB\n",
      "None\n",
      "           Title                Hierarchy  \\\n",
      "0  Unknown Title  /ukpga/2016/19/contents   \n",
      "1  Unknown Title  /ukpga/2016/19/contents   \n",
      "2  Unknown Title  /ukpga/2016/19/contents   \n",
      "3  Unknown Title  /ukpga/2016/19/contents   \n",
      "4  Unknown Title  /ukpga/2016/19/contents   \n",
      "\n",
      "                                    Content  Title_Missing  \n",
      "0                         Introductory Text              1  \n",
      "1  PART 1 Labour market and illegal working              1  \n",
      "2                   CHAPTER 1 Labour market              1  \n",
      "3     Director of Labour Market Enforcement              1  \n",
      "4   1.Director of Labour Market Enforcement              1  \n",
      "count                        33920\n",
      "unique                        6210\n",
      "top       Commencement Information\n",
      "freq                          2116\n",
      "Name: Content, dtype: object\n",
      "26400    (b)if the person brought such an appeal, it wo...\n",
      "7099                        (c)a national of Switzerland.”\n",
      "412                  Arrest for breach of immigration bail\n",
      "23148        (4)Sub-paragraph (3) applies to a person who—\n",
      "21479    (c)for “that Schedule” substitute“ Schedule 2 ...\n",
      "Name: Content, dtype: object\n"
     ]
    }
   ],
   "source": [
    "import pandas as pd\n",
    "\n",
    "# Read the CSV file into a DataFrame\n",
    "df = pd.read_csv('legislation_content_renamed.csv')\n",
    "\n",
    "# Display basic information about the DataFrame\n",
    "print(df.info())\n",
    "\n",
    "# Display the first few rows of the DataFrame\n",
    "print(df.head())\n",
    "\n",
    "# Display a summary of the 'Content' column\n",
    "print(df['Content'].describe())\n",
    "\n",
    "# Display a few sample rows from the 'Content' column\n",
    "print(df['Content'].sample(5))"
   ]
  }
 ],
 "metadata": {
  "kernelspec": {
   "display_name": "base",
   "language": "python",
   "name": "python3"
  },
  "language_info": {
   "codemirror_mode": {
    "name": "ipython",
    "version": 3
   },
   "file_extension": ".py",
   "mimetype": "text/x-python",
   "name": "python",
   "nbconvert_exporter": "python",
   "pygments_lexer": "ipython3",
   "version": "3.10.14"
  }
 },
 "nbformat": 4,
 "nbformat_minor": 2
}
