{
 "cells": [
  {
   "cell_type": "markdown",
   "metadata": {
    "id": "JDCZNEGJZFdy"
   },
   "source": [
    "# Asylum Seeker Q&A System"
   ]
  },
  {
   "cell_type": "code",
   "execution_count": null,
   "metadata": {
    "colab": {
     "base_uri": "https://localhost:8080/"
    },
    "executionInfo": {
     "elapsed": 12613,
     "status": "ok",
     "timestamp": 1736272547570,
     "user": {
      "displayName": "Bashaar Dhoot",
      "userId": "04066267376811464441"
     },
     "user_tz": 0
    },
    "id": "ZtcBzpE6pdBS",
    "outputId": "392df599-6051-4896-9547-3841c357f354"
   },
   "outputs": [],
   "source": [
    "!pip install langchain langchain-openai langchain-community faiss-cpu tiktoken langchain_huggingface"
   ]
  },
  {
   "cell_type": "markdown",
   "metadata": {
    "id": "LP_cZm0VZMlE"
   },
   "source": [
    "*   **Explanation**: This command installs the following:\n",
    "    *   `langchain`: Core framework for building applications with language models.\n",
    "    *   `langchain-openai`: Integrations with OpenAI models.\n",
    "    *   `langchain-community`: Integrations with different LLM.\n",
    "    *   `faiss-cpu`: Library for efficient similarity search.\n",
    "    *   `tiktoken`: For tokenization of text.\n",
    "    *   `langchain_huggingface`: Integrations with HuggingFace models."
   ]
  },
  {
   "cell_type": "code",
   "execution_count": null,
   "metadata": {
    "id": "Z-h2wF-wr8Uh"
   },
   "outputs": [],
   "source": [
    "import pandas as pd\n",
    "import os\n",
    "from langchain_openai import OpenAI\n",
    "from langchain_huggingface import HuggingFaceEmbeddings\n",
    "from langchain.document_loaders import TextLoader\n",
    "from langchain.docstore.document import Document\n",
    "from langchain.text_splitter import RecursiveCharacterTextSplitter\n",
    "from langchain_openai import OpenAIEmbeddings\n",
    "from langchain.vectorstores import FAISS\n",
    "from langchain_core.vectorstores import VectorStoreRetriever\n",
    "from langchain.chains import RetrievalQA"
   ]
  },
  {
   "cell_type": "markdown",
   "metadata": {
    "id": "7uifh0cLZaKb"
   },
   "source": [
    "*   **Explanation**: We import libraries for data manipulation (`pandas`), interacting with the operating system (`os`), accessing language models (`langchain_openai`), generating embeddings (`langchain_huggingface`), loading documents (`langchain.document_loaders`), structuring documents (`langchain.docstore.document`), splitting text (`langchain.text_splitter`), creating vector stores (`langchain.vectorstores`), and building retrieval chains (`langchain.chains`)."
   ]
  },
  {
   "cell_type": "code",
   "execution_count": null,
   "metadata": {
    "colab": {
     "base_uri": "https://localhost:8080/"
    },
    "executionInfo": {
     "elapsed": 23256,
     "status": "ok",
     "timestamp": 1736272938677,
     "user": {
      "displayName": "Bashaar Dhoot",
      "userId": "04066267376811464441"
     },
     "user_tz": 0
    },
    "id": "h7gqDz6muTXE",
    "outputId": "3d85787f-46a6-485c-814a-167215e15899"
   },
   "outputs": [],
   "source": [
    "from google.colab import drive\n",
    "drive.mount('/content/drive')"
   ]
  },
  {
   "cell_type": "markdown",
   "metadata": {
    "id": "7GMXp83FZg6x"
   },
   "source": [
    "*   **Explanation**: This step reads the `cleanerData.csv` file into a Pandas DataFrame, renames columns for better clarity, and combines the `Title` and `Content` into a single column `combined`. This makes the text more relevant.\n",
    "*   The `texts` variable then takes the content from the `combined` column and turn it into a list."
   ]
  },
  {
   "cell_type": "code",
   "execution_count": null,
   "metadata": {
    "id": "g4NJNKx9uFdz"
   },
   "outputs": [],
   "source": [
    "df = pd.read_csv('/content/drive/MyDrive/Colab Notebooks/cleanerData.csv')\n",
    "df.rename(columns={'Section': 'Title'}, inplace=True)\n",
    "df.rename(columns={'Paragraph': 'Content'}, inplace=True)\n",
    "df['combined'] = df['Title'] + \" \" + df['Content']\n",
    "texts = df['combined'].tolist()"
   ]
  },
  {
   "cell_type": "markdown",
   "metadata": {
    "id": "BosNPfMsZmFm"
   },
   "source": [
    "*   **Explanation**: `TextLoader` is used to handle the text data as a list, and then we create LangChain `Document` objects, which will be used in the next step."
   ]
  },
  {
   "cell_type": "code",
   "execution_count": null,
   "metadata": {
    "id": "ElRG1MHkuuNM"
   },
   "outputs": [],
   "source": [
    "loader = TextLoader(texts)"
   ]
  },
  {
   "cell_type": "code",
   "execution_count": null,
   "metadata": {
    "id": "nibwA3kJvP5A"
   },
   "outputs": [],
   "source": [
    "documents = [Document(page_content=t) for t in texts]"
   ]
  },
  {
   "cell_type": "markdown",
   "metadata": {
    "id": "gsPs-Z1qZtde"
   },
   "source": [
    "*   **Explanation**: This splits the `Document` objects into chunks of 1000 characters each, with an overlap of 200 characters between chunks. This overlap helps retain context across chunk boundaries."
   ]
  },
  {
   "cell_type": "code",
   "execution_count": null,
   "metadata": {
    "id": "458As4mJv-pl"
   },
   "outputs": [],
   "source": [
    "text_splitter = RecursiveCharacterTextSplitter(\n",
    "    chunk_size=1000,\n",
    "    chunk_overlap=200,\n",
    "    length_function=len,\n",
    ")"
   ]
  },
  {
   "cell_type": "code",
   "execution_count": null,
   "metadata": {
    "id": "IorCpfW6w4s7"
   },
   "outputs": [],
   "source": [
    "docs = text_splitter.split_documents(documents)"
   ]
  },
  {
   "cell_type": "markdown",
   "metadata": {
    "id": "ZMZrC7yoZ0LX"
   },
   "source": [
    "*   **Explanation**: This defines a function `save_object` that uses `pickle` to serialize and save the `docs` into the file."
   ]
  },
  {
   "cell_type": "code",
   "execution_count": null,
   "metadata": {
    "id": "533LsMsOzJ7u"
   },
   "outputs": [],
   "source": [
    "import pickle\n",
    "def save_object(docs, filename):\n",
    "    with open(filename, 'wb') as f:\n",
    "        pickle.dump(docs, f)\n",
    "save_object(docs, 'docs.pkl')"
   ]
  },
  {
   "cell_type": "markdown",
   "metadata": {
    "id": "c7dGnKMKZ5ny"
   },
   "source": [
    "*   **Explanation**: This defines a function `loaded_docs` to load the file. Then, we load the `docs` from the file `docs.pkl`. Finally, to check that the content was loaded well, we print the first element."
   ]
  },
  {
   "cell_type": "code",
   "execution_count": null,
   "metadata": {
    "colab": {
     "base_uri": "https://localhost:8080/"
    },
    "executionInfo": {
     "elapsed": 223,
     "status": "ok",
     "timestamp": 1736273238569,
     "user": {
      "displayName": "Bashaar Dhoot",
      "userId": "04066267376811464441"
     },
     "user_tz": 0
    },
    "id": "nE3tsSJfzz3d",
    "outputId": "b3937a1f-7e62-4265-cd40-b0913bb23811"
   },
   "outputs": [],
   "source": [
    "def loaded_docs(filename):\n",
    "    with open(filename, 'rb') as f:\n",
    "      loaded_docs = pickle.load(f)\n",
    "    return loaded_docs\n",
    "loaded_docs = loaded_docs(\"docs.pkl\")\n",
    "print(loaded_docs[0].page_content)"
   ]
  },
  {
   "cell_type": "markdown",
   "metadata": {},
   "source": [
    "body (1)The Secretary of State must appoint a person as the Director of Labour Market Enforcement (referred to in this Chapter as “the Director”). (2)The Director is to hold office in accordance with the terms of his or her appointment. (3)The functions of the Director are exercisable on behalf of the Crown. (4)The Secretary of State must provide the Director with such staff, goods, services, accommodation and other resources as the Secretary of State considers the Director needs for the exercise of his or her functions. (5)The Secretary of State must— (a)pay the Director such expenses, remuneration and allowances, and (b)pay or make provision for the payment of such pension to or in respect of the Director, as may be provided for by or under the terms of the Director's appointment. Commencement Information I1S. 1in force at 12.7.2016 byS.I. 2016/603,reg. 3(a) (1)The Director must before the beginning of each financial year prepare a labour market enforcement strategy for that year and"
   ]
  },
  {
   "cell_type": "code",
   "execution_count": null,
   "metadata": {
    "colab": {
     "base_uri": "https://localhost:8080/"
    },
    "executionInfo": {
     "elapsed": 14,
     "status": "ok",
     "timestamp": 1736191539215,
     "user": {
      "displayName": "Bashaar Dhoot",
      "userId": "04066267376811464441"
     },
     "user_tz": 0
    },
    "id": "wuY37PBsxCGz",
    "outputId": "4d06ac04-704c-40ab-f65c-0801c3620e75"
   },
   "outputs": [],
   "source": [
    "len(docs)"
   ]
  },
  {
   "cell_type": "code",
   "execution_count": null,
   "metadata": {
    "colab": {
     "base_uri": "https://localhost:8080/"
    },
    "executionInfo": {
     "elapsed": 10,
     "status": "ok",
     "timestamp": 1736191539215,
     "user": {
      "displayName": "Bashaar Dhoot",
      "userId": "04066267376811464441"
     },
     "user_tz": 0
    },
    "id": "wAIxWHfJ002e",
    "outputId": "ce6a784c-2a98-4bfb-d7bc-89aa17b40c5d"
   },
   "outputs": [],
   "source": [
    "len(loaded_docs)"
   ]
  },
  {
   "cell_type": "markdown",
   "metadata": {
    "id": "6WNem7QfZ_bA"
   },
   "source": [
    "*   **Explanation**: This initializes the embedding model from Hugging Face, using the `sentence-transformers/all-mpnet-base-v2` model. This model is designed to generate high-quality embeddings for sentence-level text."
   ]
  },
  {
   "cell_type": "code",
   "execution_count": null,
   "metadata": {
    "colab": {
     "base_uri": "https://localhost:8080/",
     "height": 499,
     "referenced_widgets": [
      "1ad99b20370c456a81973d11d2421a39",
      "cfc115003be24fcc8499174ca811d018",
      "b192d2954f1441a0b1970990cc5bb006",
      "e9567a6432524161835b3dcb0072072c",
      "a4664cbfbf644ff69c465bbe8131a464",
      "cbc303650e704c8bb9d89e32fead237c",
      "c188d17ce1e54f3aa616bc8ad9c623a4",
      "96eabe0127524326b98125a8163d0068",
      "e73349dab5d54c28bffa83c81b08a8d7",
      "d175c996bdda4aff92182cbe6c6b350c",
      "4c6192afdc7e4be6b72e245dacec841c",
      "8e6172cac31d496fb13bdf8ab88c903c",
      "84edc68b504442549ebfe1e7a0420ad5",
      "e970d10345e14fd4b2eb98ff6eab22ae",
      "aacb678e7bb849a49e1872d68e4c1a59",
      "a4fcf62961404f9ba93b5af75dad384d",
      "b35553dbc6b248449c1dbbfbb845abc2",
      "8d82bb0e2c7f42208be28b8f06aa756d",
      "98ea2af28926404282e1ac7505df02b7",
      "b7b32774729b4e40bacbc05fc7bb2d84",
      "8b9fc96f6007402e92490b2d6c43a978",
      "003cc8a9f23d45779e1dd7a129c0211d",
      "b8ce2c6b40c04c0c9889fd8503efd806",
      "09ec67d054964feda942524379f88e6a",
      "b7a25fb61eeb4a38953b3298c0e9ad62",
      "d9f99bc9d7ed4633a990dcdc94adcf24",
      "b1c12755ec014605a206fb46d84dd136",
      "e387fbf1bbce4d5c99fca48ec1643d00",
      "92815dc220ce4ef4bd0094ef60dfaa40",
      "6027e402adda4538a5fbac11e65fa0bc",
      "e6c140a5586243b48ee8420a1db7b50c",
      "420ad4903759401cb0553aa5acbc923d",
      "85bbfbf5bda64d1183efb29135457a08",
      "acd1c81436bb4ead87e4ce977e6c00f3",
      "eb137a255490478fb2a137b600db71dc",
      "a73e6278a884413d84ec323946e02a34",
      "80ce9050aa544d30a31d132fbb3bee33",
      "26f0828bba6f48ffba0e4ccf48fee1b1",
      "d5e5439e89194bc287d8d09d47164cfd",
      "b453f3095be74976ad68f3e072c4a084",
      "99ef55210bf04920ae9a4cd61583cae3",
      "06357f4bf5d244d599ada2b7e16aa608",
      "bac4b2af3ebe4688b8e0760490300ad2",
      "7fcaecee03c64412bf6d669a1a3b979c",
      "fdb31baf60334c3a9ed273ca7f24d38f",
      "9294390a929848b68a041d3c9ac459e7",
      "4c21d35816aa40a5883ef9ca944a1483",
      "2cde0c2649c248eb931c70254ac5e05b",
      "c7de5056a6874ddfb234e6bf19bd70a1",
      "b65ff89a52584446aebb1c3daa9d0db8",
      "4b25d1c32e634590bad80a7aa0aee7f6",
      "084b0764be9447e9ac25b10e1544bc4d",
      "bc0b0dcf2b924384ab8ef2dfad73afa2",
      "0402a866e7e94d109fa48868be60cd6d",
      "dfc0dae43f2a4b5983a4716907d877a3",
      "1d5874b51f0e4bac9a1b6f1f0da1bfa1",
      "b2e6ad97282d42e8a90538f531c856a0",
      "8055bcafb78d4aa5b90b7596e6d390dd",
      "8be7282c5df5497bab5a42a86e6e4cd5",
      "a23da624aef44424b8541d28c1b69904",
      "ad44d0cffc494860bdfbc0af66e35bee",
      "d3f0ab7fe47b47d8abd8b42e793a6e4f",
      "5e193cbdbb7f484b878eef7a8f7e4085",
      "95c8b0b6723147cc857b73ed0dac00ca",
      "971c64afa2bd410b88a54ed4f7a3a02e",
      "6ec4d4cee37e4114b5b2d1b441832b2c",
      "0d18c5d3f5064ad0b8e9a0783ddd54eb",
      "e67d82ba264d421886067b827b306e89",
      "1b7735c9a9e54126bc87998bb3248706",
      "607434ff82d9470e9f1fde955174b5e4",
      "69adaa1c597e4055b8aa37fab5980818",
      "23fdd5c099224694b7f8820a6c8211c0",
      "d507b11d7e494d858eeaffe883c9a782",
      "0c78bdd27ac9405981b94fb50e9dbfdb",
      "9a63e8f378a34aa9a39460588970ffb6",
      "1fc0b4d01a9e4b5b997f5cd5f70cd739",
      "c1a1f827c45c4e98975bd35898f9f6fb",
      "2e7c68313d2e48b49a3f00d2757e4de0",
      "25c089a9ab0c49ebab6cf955e2bc5a09",
      "d6274ab6e8ea4afaa6501bad4e82452d",
      "631d764590f34d8f9be744e2749081ee",
      "358a0ff208ed4d7a989cc172baec7830",
      "0d2c7f2175ff45e0b1b8375df581ae6e",
      "a12faf66860540b2aed2625ac17d41da",
      "602b80e0bcc44902a6328c3d4914e961",
      "14273a72b68d48458480cefeaec547dc",
      "1ca2edb1096a420484c43d7d54832f00",
      "05a41cbf0adc4e899f230d8a517438c9",
      "32ca18b855424bfc8cd966b8a0fcbbb2",
      "471d170aaaad428c828678b6b3dd9090",
      "ac8fb1ecf0524cd3ba13c070e58f2702",
      "618223a01be0493fb612fca186a3a917",
      "62ab618ac75f48faaa35ca14ddfa38f7",
      "0eaa38462353461aaa010ae84a80ef5e",
      "cb1d23cceb574ecdb0c0c46c224d005e",
      "7426e197392745fb981474cd10da6cbc",
      "3e904b0f5e044738aea3672dfd97b115",
      "4d8f7e727cf840e493207f11e0999d15",
      "2dcc948bbcac47739469c2121aeb3aeb",
      "a991564c818d4ad09a824a2d6abcb8c9",
      "8e56e42e4dde401b829a683cba63e682",
      "056576637a2648aa8af599c57cfd44f1",
      "26894df756874b83a3dd773959282e20",
      "45a5de6b90a646739c3af18c3140da4f",
      "952468a18e944fd8990e1408fc4b693d",
      "1985a908af5e4cdba54e6255b09e508f",
      "aa7fee2b4f6541db9350ae31f36fb7a9",
      "4257ffdf09a94e1fa6ab4030330fa7fb",
      "1c8af65b9d394ca280ae134684dcbe7d",
      "03aa629ae50d47d2bed22a11da4c5caa",
      "e3c55206c5c84289886c3bbb8a6d7ff6",
      "f81b1bf019924d9a8355b20b4918cb56",
      "580b05d65502464babdd7cc1d46e50fa",
      "ca5419051124453e9cc8b859e5ee1116",
      "5aa57516a473415ba7ac5b568562dd36",
      "04e8cf09e84448a4aa8bb60f4d2e55d4",
      "58c339a67a4346bc9359f111a81fc0df",
      "11b60665875545579ce0a4a35d350ca0",
      "ca32c79c1f334d06b0c04a4a78784030",
      "aaae609e96254788916256812b9b0eff",
      "bda1507163a040c18bc01d0bba759394"
     ]
    },
    "executionInfo": {
     "elapsed": 22636,
     "status": "ok",
     "timestamp": 1736273269011,
     "user": {
      "displayName": "Bashaar Dhoot",
      "userId": "04066267376811464441"
     },
     "user_tz": 0
    },
    "id": "3VcgvIbf6Cqx",
    "outputId": "c811f64a-7bdd-4065-8230-1b615132a6c8"
   },
   "outputs": [],
   "source": [
    "embeddings = HuggingFaceEmbeddings(\n",
    "    model_name=\"sentence-transformers/all-mpnet-base-v2\"\n",
    ")"
   ]
  },
  {
   "cell_type": "markdown",
   "metadata": {
    "id": "MfCzqTB5aE9H"
   },
   "source": [
    "*   **Explanation**: This step builds a FAISS index from the `docs` and their `embeddings`. FAISS is used for efficient similarity search."
   ]
  },
  {
   "cell_type": "code",
   "execution_count": null,
   "metadata": {
    "id": "e7QtPAYFxWRP"
   },
   "outputs": [],
   "source": [
    "library = FAISS.from_documents(docs, embeddings)"
   ]
  },
  {
   "cell_type": "code",
   "execution_count": null,
   "metadata": {
    "colab": {
     "base_uri": "https://localhost:8080/"
    },
    "executionInfo": {
     "elapsed": 57,
     "status": "ok",
     "timestamp": 1736191587711,
     "user": {
      "displayName": "Bashaar Dhoot",
      "userId": "04066267376811464441"
     },
     "user_tz": 0
    },
    "id": "FngUnOUv5VhU",
    "outputId": "45a94ac9-9fac-40c8-a663-f2b47d54a19e"
   },
   "outputs": [],
   "source": [
    "library"
   ]
  },
  {
   "cell_type": "markdown",
   "metadata": {
    "id": "pMQnc7sJasgn"
   },
   "source": [
    "*   **Explanation**: A sample query `query1` is defined and used to search for similar documents in the vector store. The `similarity_search` function returns the most similar documents. Here, we display the most similar one."
   ]
  },
  {
   "cell_type": "code",
   "execution_count": null,
   "metadata": {
    "id": "5S4lHEN6zKZW"
   },
   "outputs": [],
   "source": [
    "query1 = \"Why can I not work in the UK while applying for asylum?\""
   ]
  },
  {
   "cell_type": "code",
   "execution_count": null,
   "metadata": {
    "id": "ymzJ1odazmch"
   },
   "outputs": [],
   "source": [
    "queryAnswer = library.similarity_search(query1)"
   ]
  },
  {
   "cell_type": "code",
   "execution_count": null,
   "metadata": {
    "colab": {
     "base_uri": "https://localhost:8080/"
    },
    "executionInfo": {
     "elapsed": 267,
     "status": "ok",
     "timestamp": 1736273310179,
     "user": {
      "displayName": "Bashaar Dhoot",
      "userId": "04066267376811464441"
     },
     "user_tz": 0
    },
    "id": "xaClJy0yz2Mc",
    "outputId": "b9e793d8-236c-4d45-ab18-39b3b285b457"
   },
   "outputs": [],
   "source": [
    "print(queryAnswer[0].page_content)"
   ]
  },
  {
   "cell_type": "markdown",
   "metadata": {},
   "source": [
    "3, paragraph 1(1)(ga) prevents a local authority in England from providing support or assistance under a provision mentioned in paragraph (ga) to a person if— (a)support is being provided to the person by virtue of paragraph 10B or section 95A of the Immigration and Asylum Act 1999, or (b)there are reasonable grounds for believing that support will be provided to the person by virtue of that paragraph or section.” 7U.K.In paragraph 6 (third class of ineligible person: failed asylum-seeker), in sub-paragraph (1), in the words before sub-paragraph (a), after “person” insert“ in Wales, Scotland or Northern Ireland ”. 8U.K.In paragraph 7 (fourth class of ineligible person: person unlawfully in United Kingdom), in the words before sub-paragraph (a), after “person” insert“ in Wales, Scotland or Northern Ireland ”. 9U.K.Before paragraph 8 insert— 7B(1)Paragraph 1 applies to a person in England if— (a)under the Immigration Act 1971, he requires leave to enter or remain in the United Kingdom"
   ]
  },
  {
   "cell_type": "markdown",
   "metadata": {
    "id": "vbNMQhw2ayhV"
   },
   "source": [
    "*   **Explanation**: This `similarity_search_with_score` function is used to obtain not only the most similar documents but also their similarity scores."
   ]
  },
  {
   "cell_type": "code",
   "execution_count": null,
   "metadata": {
    "id": "SmwwYiOs03xs"
   },
   "outputs": [],
   "source": [
    "docs_and_scores = library.similarity_search_with_score(query1)"
   ]
  },
  {
   "cell_type": "code",
   "execution_count": null,
   "metadata": {
    "colab": {
     "base_uri": "https://localhost:8080/"
    },
    "executionInfo": {
     "elapsed": 4,
     "status": "ok",
     "timestamp": 1736273314462,
     "user": {
      "displayName": "Bashaar Dhoot",
      "userId": "04066267376811464441"
     },
     "user_tz": 0
    },
    "id": "i9arHMWo2Bbd",
    "outputId": "690e4a99-c85e-4c7d-dd7c-69c296b3be71"
   },
   "outputs": [],
   "source": [
    "docs_and_scores[0]"
   ]
  },
  {
   "cell_type": "markdown",
   "metadata": {},
   "source": [
    "(Document(id='5790ae72-4165-47bb-9634-bc83255ae133', metadata={}, page_content='3, paragraph 1(1)(ga) prevents a local authority in England from providing support or assistance under a provision mentioned in paragraph (ga) to a person if— (a)support is being provided to the person by virtue of paragraph 10B or section 95A of the Immigration and Asylum Act 1999, or (b)there are reasonable grounds for believing that support will be provided to the person by virtue of that paragraph or section.” 7U.K.In paragraph 6 (third class of ineligible person: failed asylum-seeker), in sub-paragraph (1), in the words before sub-paragraph (a), after “person” insert“ in Wales, Scotland or Northern Ireland ”. 8U.K.In paragraph 7 (fourth class of ineligible person: person unlawfully in United Kingdom), in the words before sub-paragraph (a), after “person” insert“ in Wales, Scotland or Northern Ireland ”. 9U.K.Before paragraph 8 insert— 7B(1)Paragraph 1 applies to a person in England if— (a)under the Immigration Act 1971, he requires leave to enter or remain in the United Kingdom'),\n",
    " 0.8213681)"
   ]
  },
  {
   "cell_type": "markdown",
   "metadata": {
    "id": "lcT2O_Sta3sY"
   },
   "source": [
    "*   **Explanation**: This converts the FAISS vector store into a retriever, which can be used in chains or other LangChain components to retrieve relevant documents."
   ]
  },
  {
   "cell_type": "code",
   "execution_count": null,
   "metadata": {
    "id": "i34mlYq52Jsj"
   },
   "outputs": [],
   "source": [
    "retriever = library.as_retriever()"
   ]
  },
  {
   "cell_type": "markdown",
   "metadata": {
    "id": "q1QmA_-ja9EQ"
   },
   "source": [
    "*   **Explanation**: Here we import `AutoModelForSeq2SeqLM` and `AutoTokenizer` from the `transformers` library. We then specify the model `google/flan-t5-xl` and load the tokenizer and the model."
   ]
  },
  {
   "cell_type": "code",
   "execution_count": null,
   "metadata": {
    "colab": {
     "base_uri": "https://localhost:8080/",
     "height": 369,
     "referenced_widgets": [
      "62c0c742d3764126b6c026e4b762890d",
      "2c783d6ff6c44eefbcf6b184acf47b0a",
      "abfc9df80f0c4773b4363b2bb72dccf8",
      "a58339785f70413ea68fc099a435a7f8",
      "7dc4a2dd61db40aa9a2acf93af2f517c",
      "0af458b036c04e55a9df086c48220eea",
      "9669cc5f68574c0c854134a5b2f5d661",
      "514166f91260446eaeed128e9eb394c8",
      "aaa7726fc8df465f8b33681c98f5e65f",
      "965401f5fb834b7ca909628a0f618e80",
      "269f4a78a01442f4b663be4e672ab5ed",
      "a36637eac4914f12ad1e2f904e68b1f3",
      "8832c0565d9c4bd1b341977fbf5f0781",
      "f0fb1afff94d4349801e899d7231752c",
      "ef012b5a0ad94420aab55e70e566bfdc",
      "bc9ff076f7a1435189d4ce7ac7055be8",
      "28520989a95540108d7e243fc42beb1f",
      "a912e8a765fa4c308689b3976d7bf1f2",
      "5a6862f63ae14acc942fc554a3421a23",
      "65c54efbb5bf462e9806f9977ab57329",
      "45c20eaf807a41ee86bae8827fce8153",
      "5df36daa4ef04e55bf18ea1a6b73d612",
      "a8657d1e4dd3474c93b2a632d38d53b1",
      "49cd725170464006970d866b1cd2c18e",
      "51ebfa5cb891416a878eb3d382a1094d",
      "a01a3725315f4ce698ab2c924bc04792",
      "fd73248a526d499580e3784d08164d23",
      "43f873fc85a14e8f9d6bfc2552dafab6",
      "715c69d2ec184ce596d15f741b8d4462",
      "b520e75bcaf44078841e1a96811a488e",
      "71c010c2f5ed4202a40c4ced241a3e4b",
      "795ea069b2d8495098257f96def9e973",
      "91fd807aff0447bcb6997169af6f7864",
      "6316208d344f4e5099eb8cedff3e33a9",
      "b65326e2cd3b412eb27a36bcdfe3f9ab",
      "cc36c4d828d24592a78e53613be89fba",
      "5633a902e62d41b19f10b830b00ed1a8",
      "d3681cced1344a9d811fe373a7ad2d3f",
      "23e6ba5c9b604c34a9a1344f1a3ce437",
      "4ba9012705fb47e5b20c38196b7836b2",
      "7365570725b14c1fbbdd19cd6eb595a0",
      "1d47e7ee99164020b13bb3ec19c405c4",
      "1ff843c0ccc14da4802c56a5113bfcde",
      "e3a1af91d08544c3ac9cdd81523baf59",
      "46764b2d4ac3448f8824bfd63755522b",
      "7521c31861dd48b79239df0bd19cb801",
      "91fe5b3364a94a82811b16f603829b24",
      "6906aff2f6494436aced266799fcd8c8",
      "d21af583ee94498dab944bbbfcb62fdd",
      "f41ed70ab249483caa544739f64b1993",
      "bc74301af54342d781d1d9a2e416c37c",
      "33128dedf89240918f8e5a3e9513f7bc",
      "98ea810d0855492482a195eb77c55850",
      "4f61472af75046c6b28b6c7a728c9975",
      "18b3375c4ba047c28247c576b7abdc82",
      "9715718909064232897b41e34a93b351",
      "17c637f85e9848d592e7580b062e7cff",
      "43427062749341179f2bd395495515b2",
      "43b54a96e7bf49bd805611160a33bc7f",
      "481b1828e1454b1d989c4c0918aeca54",
      "2e4314853fee491f87469a6b01448d06",
      "239684fb1de8410d950e3782ee22e593",
      "12cc1b6cfadc41ec9e3814674fcb63ec",
      "dece806ef5af4af4ab469c3d7013000b",
      "f67f34a4cbe64ec5b2d2b57012ed7edb",
      "c617a5f9d90641c18ae216612405574c",
      "457a0821b5b5450fb029a05fba6fd978",
      "7d8a9114f2d044efb109e8ec8198b7f5",
      "bd5198561b3243f5a852d47abaa2629a",
      "fb90649a1491408fb01454a67a1292bc",
      "4f006e584f9f4d11ad3318857bd4eeb1",
      "01987008b73246f9b50de25b94ac8a9a",
      "859357df0bed48b987e88f8a19f8d864",
      "36aa9ed2d7114d79b48ae918a42a3a6c",
      "31d881cf77b44a4992d414319fedeed3",
      "81c8f2da58c9401981c6f51eb449d6c8",
      "f672bb8f4eb741b1831d4fa0d4a6a8ce",
      "92665731b6d74234b5381e08494d3907",
      "1cb6504d351d43fc9c5bf09ca7bdb5ac",
      "cee97fab39f941aaad688c005581f41c",
      "77a6cb72b79e4d63a69e559d2cb1588e",
      "f2a810389c8c4538848ca2c24401f16c",
      "d65822f6f79d417daf9af0f1c9cde17d",
      "0a339e0093f148e78b11b3166cc6faf2",
      "5b378b9984a249d9aed5da939d7d24fa",
      "9dd0f7e0a96849d4a8ff526d250c2786",
      "4e6eed8121c44a4294873f4b513ca96c",
      "c9f4d3553f9b42bca0fce6ec166bf1c9",
      "365c87eae1f442efb7f716c79c37c9d1",
      "eb6330577d6641c9b2bfd881d8b40a2b",
      "3dd33a37f2704e75acdb632acbee3e6c",
      "05804af59ec94fb7b9354fb5fd014800",
      "39e2107fcdf74f18a7c419878e227519",
      "04674580642e43b39ede83a2aca50997",
      "4e44706a58914b5385d78188df22a8d4",
      "f491dd392b644d9d86db939fb9f5436a",
      "545f02c020ab4530a9c16a921a6ae0cc",
      "2bdb550e692c49ecad113fd9a0a9f11a",
      "f985a03ef8a6464d9ab72e1e25233483",
      "6394f5dff1ec4df39611a04584a4dab2",
      "bd5485fd2df243af9a413cb975757be4",
      "c92f45591fd94298a3498bc0d17c519d",
      "e98d486fa914410b9b4e18f33c539a74",
      "da2165ee92614f05a207be1a3a8bfa6f",
      "61d17b34f0b34854a2aea66d28cc0745",
      "6964126def7142f5929f095c7f8a194f",
      "765a561e4da64d93976305ab535413eb",
      "1790ae86aeb04dc1aee90372f041a0be",
      "4e143535ebcd45c787344eb755143731",
      "df8a0646771146bdbb52683e3f7ec106",
      "1aba3c8e1bc74cda831e0e6397d4fe2b",
      "573b8499c3274178a4c9fe04324c1c4c",
      "cf33117229e3472fa01540bb0094b440",
      "5e3009834fa04d05ab0bff76a5083612",
      "c8fbb56db18a44cbabe651caf6e5f22c",
      "75ff1a33dff44976a851d7523dd43c18",
      "215b3de1a83f4aa69e15fe713a646b6b",
      "7c397606db0a4832800f1b7f0b9e6c8f",
      "2bec38f1564e49e1a0ddb463db2a2647",
      "0720fd519d4f4e25b1be96870607ab38",
      "64515be7c1064659b7e55bf96bbf377b"
     ]
    },
    "executionInfo": {
     "elapsed": 88905,
     "status": "ok",
     "timestamp": 1736273407338,
     "user": {
      "displayName": "Bashaar Dhoot",
      "userId": "04066267376811464441"
     },
     "user_tz": 0
    },
    "id": "u3NhmVbP8gFo",
    "outputId": "bffb0dfb-1faa-423d-9354-50d7a66c0387"
   },
   "outputs": [],
   "source": [
    "from transformers import AutoModelForSeq2SeqLM, AutoTokenizer\n",
    "\n",
    "model_name = \"google/flan-t5-xl\"\n",
    "tokenizer = AutoTokenizer.from_pretrained(model_name)\n",
    "model = AutoModelForSeq2SeqLM.from_pretrained(model_name)"
   ]
  },
  {
   "cell_type": "markdown",
   "metadata": {
    "id": "74oG1cn_bCAP"
   },
   "source": [
    "*   **Explanation**: This function takes a question, a model, and a tokenizer as inputs. It tokenizes the question and generates a response using the model, decoding the output to a string.\n",
    "*   Define the function `get_answer_from_library`."
   ]
  },
  {
   "cell_type": "code",
   "execution_count": null,
   "metadata": {
    "id": "qkiSJtsCuD0s"
   },
   "outputs": [],
   "source": [
    "def query_flan(question, model, tokenizer, max_new_tokens=50):\n",
    "    inputs = tokenizer(question, return_tensors=\"pt\")\n",
    "    outputs = model.generate(**inputs, max_new_tokens=max_new_tokens)\n",
    "\n",
    "    answer = tokenizer.decode(outputs[0], skip_special_tokens=True)\n",
    "    return answer"
   ]
  },
  {
   "cell_type": "markdown",
   "metadata": {
    "id": "srai7gDpbFPt"
   },
   "source": [
    "*   **Explanation**: This function performs the following steps:\n",
    "    *   It finds the `k` (in this case 2) most relevant documents from the `library` for the input `question`.\n",
    "    *   It prints the content of these relevant documents.\n",
    "    *   It combines the content of these documents into a single `context` string.\n",
    "    *   It then constructs a `prompt` that includes this context, the original question, and instructions to provide a detailed answer and explain the reasoning.\n",
    "    *   It uses the `query_flan` function to get an answer from the model, using the constructed prompt.\n",
    "    *   Finally, it returns the answer."
   ]
  },
  {
   "cell_type": "code",
   "execution_count": null,
   "metadata": {
    "colab": {
     "base_uri": "https://localhost:8080/"
    },
    "executionInfo": {
     "elapsed": 12076,
     "status": "ok",
     "timestamp": 1736273475349,
     "user": {
      "displayName": "Bashaar Dhoot",
      "userId": "04066267376811464441"
     },
     "user_tz": 0
    },
    "id": "tAghNHMnssI8",
    "outputId": "729cc816-2bde-4644-c70c-c5480865e812"
   },
   "outputs": [],
   "source": [
    "def get_answer_from_library(question, library, model, tokenizer, max_new_tokens=50):\n",
    "\n",
    "    relevant_docs = library.similarity_search(question, k=2)\n",
    "\n",
    "    print(\"Relevant Documents:\")\n",
    "    for doc in relevant_docs:\n",
    "        print(doc.page_content)\n",
    "\n",
    "    context = \" \".join([doc.page_content for doc in relevant_docs])\n",
    "\n",
    "\n",
    "    prompt = f\"Context: {context}\\nQuestion: {question}\\nAnswer: Provide a detailed answer and explain the reasoning behind it, using the provided context.\"\n",
    "\n",
    "    answer = query_flan(prompt, model, tokenizer, max_new_tokens)\n",
    "\n",
    "    return answer\n",
    "\n",
    "question = \"Why can I not work in the UK while applying for asylum?\"\n",
    "answer = get_answer_from_library(question, library, model, tokenizer)\n",
    "print(\"Answer:\")\n",
    "print(answer)"
   ]
  },
  {
   "cell_type": "markdown",
   "metadata": {},
   "source": [
    "Relevant Documents:\n",
    "3, paragraph 1(1)(ga) prevents a local authority in England from providing support or assistance under a provision mentioned in paragraph (ga) to a person if— (a)support is being provided to the person by virtue of paragraph 10B or section 95A of the Immigration and Asylum Act 1999, or (b)there are reasonable grounds for believing that support will be provided to the person by virtue of that paragraph or section.” 7U.K.In paragraph 6 (third class of ineligible person: failed asylum-seeker), in sub-paragraph (1), in the words before sub-paragraph (a), after “person” insert“ in Wales, Scotland or Northern Ireland ”. 8U.K.In paragraph 7 (fourth class of ineligible person: person unlawfully in United Kingdom), in the words before sub-paragraph (a), after “person” insert“ in Wales, Scotland or Northern Ireland ”. 9U.K.Before paragraph 8 insert— 7B(1)Paragraph 1 applies to a person in England if— (a)under the Immigration Act 1971, he requires leave to enter or remain in the United Kingdom\n",
    "part 1 chapter 2 (1)The Immigration Act 1971 is amended as follows. (2)In section 3(1)(c)(i) (power to grant limited leave to enter or remain in the United Kingdom subject to condition restricting employment or occupation) for “employment” substitute“ work ”. (3)After section 24A insert— (1)A person (“P”) who is subject to immigration control commits an offence if— (a)P works at a time when P is disqualified from working by reason of P's immigration status, and (b)at that time P knows or has reasonable cause to believe that P is disqualified from working by reason of P's immigration status. (2)For the purposes of subsection (1) a person is disqualified from working by reason of the person's immigration status if— (a)the person has not been granted leave to enter or remain in the United Kingdom, or (b)the person's leave to enter or remain in the United Kingdom— (i)is invalid, (ii)has ceased to have effect (whether by reason of curtailment, revocation, cancellation, passage of time or\n",
    "Answer:\n",
    "The person has not been granted leave to enter or remain in the United Kingdom, or (b)the person's leave to enter or remain in the United Kingdom— (i)is invalid, (ii)has ceased to have effect\n"
   ]
  },
  {
   "cell_type": "markdown",
   "metadata": {
    "id": "DCbn7RJ2bM9t"
   },
   "source": [
    "*   **Explanation**: Here, we call the `get_answer_from_library` to get an answer to our question. Then, we print the answer."
   ]
  },
  {
   "cell_type": "markdown",
   "metadata": {
    "id": "9VR2nEpZbpw0"
   },
   "source": [
    "**Conclusion**\n",
    "\n",
    "This notebook successfully demonstrates the development of an Asylum Seeker Q&A system, leveraging the power of several libraries, like LangChain, Hugging Face, FAISS, Sentence Transformers, and Google's Flan-T5 model, to create a robust question-answering solution. The process involves efficient document management, text embedding, similarity searching, and advanced language modeling to provide relevant and informative answers to user queries.\n",
    "\n",
    "**Key Accomplishments:**\n",
    "\n",
    "*   **Data Preprocessing:** The system effectively prepares the raw asylum data for analysis.\n",
    "*   **Embedding Generation:** High-quality text embeddings are created, enabling accurate semantic comparisons.\n",
    "*   **Efficient Similarity Search:** FAISS enables rapid identification of relevant document chunks.\n",
    "*   **Contextualized Question Answering:** The Flan-T5 model generates answers that are contextually grounded in the retrieved documents.\n",
    "* **Saving data**: The index and document embeddings are saved in files to make it easier to load later.\n",
    "\n",
    "**Potential Improvements:**\n",
    "\n",
    "While the current system works well, there's room for further enhancement:\n",
    "\n",
    "*   **Model Fine-tuning:** Experimenting with different embedding models or fine-tuning Flan-T5 could improve answer accuracy.\n",
    "*   **Parameter Optimization:** Adjusting parameters like chunk size, overlap, and the number of retrieved documents can enhance the overall performance.\n",
    "*   **Expanding the Dataset:** A larger, more diverse dataset would lead to more comprehensive and accurate responses.\n",
    "\n",
    "**Overall Impact:**\n",
    "\n",
    "This project demonstrates a practical application of advanced NLP techniques to address real-world information access challenges. The Q&A system empowers users to find specific information about the asylum process and the model and the index is saved into a file to make it usable in the future."
   ]
  }
 ],
 "metadata": {
  "accelerator": "GPU",
  "colab": {
   "authorship_tag": "ABX9TyPMkWjLkQtS/4/hdzaW/9Sf",
   "gpuType": "A100",
   "machine_shape": "hm",
   "provenance": []
  },
  "kernelspec": {
   "display_name": "Python 3 (ipykernel)",
   "language": "python",
   "name": "python3"
  },
  "language_info": {
   "codemirror_mode": {
    "name": "ipython",
    "version": 3
   },
   "file_extension": ".py",
   "mimetype": "text/x-python",
   "name": "python",
   "nbconvert_exporter": "python",
   "pygments_lexer": "ipython3",
   "version": "3.13.3"
  }
 },
 "nbformat": 4,
 "nbformat_minor": 4
}
