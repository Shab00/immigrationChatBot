{
 "cells": [
  {
   "cell_type": "code",
   "execution_count": 1,
   "metadata": {},
   "outputs": [],
   "source": [
    "import pandas as pd\n",
    "\n",
    "df = pd.read_csv('legislation_content.csv')"
   ]
  },
  {
   "cell_type": "code",
   "execution_count": 3,
   "metadata": {},
   "outputs": [],
   "source": [
    "# Rename 'Section' to 'Hierarchy'\n",
    "df.rename(columns={'Section': 'Hierarchy'}, inplace=True)\n",
    "\n",
    "# Rename 'Paragraph' to 'Content'\n",
    "df.rename(columns={'Paragraph': 'Content'}, inplace=True)\n",
    "\n",
    "# Handle missing values in the 'Title' column\n",
    "# Replace 'No Title' with a placeholder (e.g., 'Unknown Title')\n",
    "df['Title'] = df['Title'].replace('No Title', 'Unknown Title')\n",
    "\n",
    "# Create a new feature indicating missing titles\n",
    "df['Title_Missing'] = df['Title'].apply(lambda x: 1 if x == 'Unknown Title' else 0)\n",
    "\n",
    "# Handle missing values in other columns by filling with a placeholder (e.g., 'Unknown')\n",
    "df.fillna('Unknown', inplace=True)\n",
    "\n",
    "# Reorder the columns to place Title, Hierarchy, Content, and Title_Missing at the beginning\n",
    "df = df[['Title', 'Hierarchy', 'Content', 'Title_Missing']]\n"
   ]
  },
  {
   "cell_type": "code",
   "execution_count": 5,
   "metadata": {},
   "outputs": [
    {
     "name": "stdout",
     "output_type": "stream",
     "text": [
      "Final DataFrame:\n",
      "           Title                Hierarchy  \\\n",
      "0  Unknown Title  /ukpga/2016/19/contents   \n",
      "1  Unknown Title  /ukpga/2016/19/contents   \n",
      "2  Unknown Title  /ukpga/2016/19/contents   \n",
      "3  Unknown Title  /ukpga/2016/19/contents   \n",
      "4  Unknown Title  /ukpga/2016/19/contents   \n",
      "\n",
      "                                    Content  Title_Missing  \n",
      "0                         Introductory Text              1  \n",
      "1  PART 1 Labour market and illegal working              1  \n",
      "2                   CHAPTER 1 Labour market              1  \n",
      "3     Director of Labour Market Enforcement              1  \n",
      "4   1.Director of Labour Market Enforcement              1  \n"
     ]
    }
   ],
   "source": [
    "# Save the modified DataFrame to a new CSV file\n",
    "df.to_csv('legislation_content_renamed.csv', index=False)\n",
    "\n",
    "# Display the DataFrame to verify the changes\n",
    "print(\"Final DataFrame:\")\n",
    "print(df.head())"
   ]
  }
 ],
 "metadata": {
  "kernelspec": {
   "display_name": "base",
   "language": "python",
   "name": "python3"
  },
  "language_info": {
   "codemirror_mode": {
    "name": "ipython",
    "version": 3
   },
   "file_extension": ".py",
   "mimetype": "text/x-python",
   "name": "python",
   "nbconvert_exporter": "python",
   "pygments_lexer": "ipython3",
   "version": "3.10.14"
  }
 },
 "nbformat": 4,
 "nbformat_minor": 2
}
